{
 "cells": [
  {
   "cell_type": "code",
   "execution_count": 1,
   "id": "86b47da1",
   "metadata": {},
   "outputs": [],
   "source": [
    "from array import *\n",
    "\n",
    "# gameboard = [4][4]\n",
    "gameboard = [[' ',' ',' '],[' ',' ',' '], [' ',' ',' ']]"
   ]
  },
  {
   "cell_type": "code",
   "execution_count": 2,
   "id": "50ea377a",
   "metadata": {},
   "outputs": [
    {
     "name": "stdout",
     "output_type": "stream",
     "text": [
      "[' ', ' ', ' ']\n",
      "[' ', ' ', ' ']\n",
      "[' ', ' ', ' ']\n"
     ]
    }
   ],
   "source": [
    "def displaygameboard(gameboard):\n",
    "    for row in gameboard: \n",
    "        print(row)\n",
    "\n",
    "displaygameboard(gameboard)\n"
   ]
  },
  {
   "cell_type": "code",
   "execution_count": 3,
   "id": "668e4bf6",
   "metadata": {},
   "outputs": [],
   "source": [
    "#displaygameboard(gameboard1, gameboard2, gameboard3)"
   ]
  },
  {
   "cell_type": "code",
   "execution_count": 4,
   "id": "355e1ca7",
   "metadata": {},
   "outputs": [],
   "source": [
    "def user_choice():\n",
    "    \n",
    "    choice = \" \"\n",
    "    acceptable_range = (1, 9)\n",
    "    within_range = False\n",
    "    #if choice is not a number within the range, ask user to try again\n",
    "    while choice.isdigit() == False or within_range == False:\n",
    "        choice = input(\"Please choose a number from 1 - 9: \")\n",
    "        \n",
    "        if choice.isdigit() == False:\n",
    "            print(\"Wrong input! Please enter a digit!\")\n",
    "        elif choice.isdigit() == True:\n",
    "            if choice not in ['1', '2', '3', '4', '5', '6', '7', '8', '9']:\n",
    "                within_range = False\n",
    "                print(\"Wrong input\")\n",
    "            else:\n",
    "                within_range = True\n",
    "    \n",
    "    return str(choice)"
   ]
  },
  {
   "cell_type": "code",
   "execution_count": 5,
   "id": "59b13466",
   "metadata": {},
   "outputs": [],
   "source": [
    "def replacement_choice():\n",
    "       \n",
    "    user_placement = \" \"\n",
    "    while user_placement not in ['X', 'O', 'x', 'o']:\n",
    "        user_placement = input(\"Please enter an X or O! : \")\n",
    "        \n",
    "        if user_placement not in ['X', 'O', 'x', 'o']:\n",
    "            print(\"Invalid input! Please try again!\")\n",
    "    \n",
    "    return user_placement"
   ]
  },
  {
   "cell_type": "code",
   "execution_count": 6,
   "id": "9f917938",
   "metadata": {
    "scrolled": true
   },
   "outputs": [],
   "source": [
    "#replacement_choice(gameboard1)"
   ]
  },
  {
   "cell_type": "code",
   "execution_count": 7,
   "id": "a87f7611",
   "metadata": {},
   "outputs": [],
   "source": [
    "def continueplaying():\n",
    "    \n",
    "    playing = \" \"\n",
    "    \n",
    "    while playing not in ['No', 'no', 'yes', 'Yes', 'y', 'n']:\n",
    "        playing = input(\"Do you wish to continue? (Yes/No) : \")\n",
    "         \n",
    "        if playing not in ['No', 'no', 'yes', 'Yes', 'y', 'n']:\n",
    "            print(\"Invalid input, please try again.\")\n",
    "        \n",
    "    if playing in ['No', 'no', 'n']:\n",
    "        return False\n",
    "    else:\n",
    "        return True"
   ]
  },
  {
   "cell_type": "code",
   "execution_count": 8,
   "id": "967140b4",
   "metadata": {},
   "outputs": [],
   "source": [
    "# continueplaying()\n",
    "def placeonboard(gameboard , position, placement):\n",
    "    if position == '1':\n",
    "        gameboard[0][0] = placement\n",
    "    elif position == '2':\n",
    "        gameboard[0][1] = placement\n",
    "    elif position == '3':\n",
    "        gameboard[0][2] = placement\n",
    "    elif position == '4':\n",
    "        gameboard[1][0] = placement\n",
    "    elif position == '5':\n",
    "        gameboard[1][1] = placement\n",
    "    elif position == '6':\n",
    "        gameboard[1][2] = placement\n",
    "    elif position == '7':\n",
    "        gameboard[2][0] = placement\n",
    "    elif position == '8':\n",
    "        gameboard[2][1] = placement\n",
    "    elif position == '9':\n",
    "        gameboard[2][2] = placement\n",
    "\n",
    "\n",
    "\n",
    "    return gameboard"
   ]
  },
  {
   "cell_type": "code",
   "execution_count": 9,
   "id": "3cac61ba",
   "metadata": {},
   "outputs": [],
   "source": [
    "def isValid(gameboard):\n",
    "    # diagonal\n",
    "    if (gameboard[0][0] == gameboard[1][1] == gameboard[2][2] == 'x') or (gameboard[0][0] == gameboard[1][1] == gameboard[2][2] == 'o'):\n",
    "        return True\n",
    "    elif (gameboard[2][0] == gameboard[1][1] == gameboard[0][2] == 'x') or (gameboard[2][0] == gameboard[1][1] == gameboard[0][2] == 'o'):\n",
    "        return True\n",
    "    \n",
    "    # horizontal\n",
    "    elif (gameboard[0][0] == gameboard[0][1] == gameboard[0][2] == 'x') or (gameboard[0][0] == gameboard[0][1] == gameboard[0][2] == 'o'):\n",
    "        return True\n",
    "    elif (gameboard[1][0] == gameboard[1][1] == gameboard[1][2] == 'x') or (gameboard[1][0] == gameboard[1][1] == gameboard[1][2] == 'o'):\n",
    "        return True\n",
    "    elif (gameboard[2][0] == gameboard[2][1] == gameboard[2][2] == 'x') or (gameboard[2][0] == gameboard[2][1] == gameboard[2][2] == 'o'):\n",
    "        return True\n",
    "    \n",
    "    # vertical\n",
    "    elif (gameboard[0][0] == gameboard[1][0] == gameboard[2][0] == 'x') or (gameboard[0][0] == gameboard[1][0] == gameboard[2][0] == 'o'):\n",
    "        return True\n",
    "    elif (gameboard[0][1] == gameboard[1][1] == gameboard[2][1] == 'x') or (gameboard[0][1] == gameboard[1][1] == gameboard[2][1] == 'o'):\n",
    "        return True\n",
    "    elif (gameboard[2][0] == gameboard[2][1] == gameboard[2][2] == 'x') or (gameboard[2][0] == gameboard[2][1] == gameboard[2][2] == 'o'):\n",
    "        return True\n",
    "    \n",
    "    else:\n",
    "        return False"
   ]
  },
  {
   "cell_type": "code",
   "execution_count": 10,
   "id": "424bbe13",
   "metadata": {},
   "outputs": [
    {
     "name": "stdout",
     "output_type": "stream",
     "text": [
      "['x', ' ', ' ']\n",
      "['x', ' ', ' ']\n",
      "['x', ' ', ' ']\n",
      "---------------\n",
      "\n",
      "Yay! you won!\n"
     ]
    }
   ],
   "source": [
    "from IPython.display import clear_output\n",
    "\n",
    "game_on = True\n",
    "\n",
    "displaygameboard(gameboard)\n",
    "print(\"---------------\")\n",
    "while game_on: \n",
    "    \n",
    "    # displaygameboard(gameboard)\n",
    "    \n",
    "    position = user_choice()\n",
    "    placement = replacement_choice()\n",
    "\n",
    "    #replace value\n",
    "    placeonboard(gameboard, position, placement)\n",
    "    # os.system('clear')\n",
    "    clear_output(wait=True)\n",
    "\n",
    "    displaygameboard(gameboard)\n",
    "    print(\"---------------\")\n",
    "    print()\n",
    "    if isValid(gameboard):\n",
    "        print(\"Yay! you won!\")\n",
    "        game_on = False\n",
    "    else:\n",
    "        game_on = continueplaying()"
   ]
  },
  {
   "cell_type": "code",
   "execution_count": null,
   "id": "825674e9",
   "metadata": {},
   "outputs": [],
   "source": []
  },
  {
   "cell_type": "code",
   "execution_count": null,
   "id": "a5ee8f26",
   "metadata": {},
   "outputs": [],
   "source": []
  },
  {
   "cell_type": "code",
   "execution_count": null,
   "id": "ccda47f5",
   "metadata": {},
   "outputs": [],
   "source": []
  }
 ],
 "metadata": {
  "kernelspec": {
   "display_name": "Python 3 (ipykernel)",
   "language": "python",
   "name": "python3"
  },
  "language_info": {
   "codemirror_mode": {
    "name": "ipython",
    "version": 3
   },
   "file_extension": ".py",
   "mimetype": "text/x-python",
   "name": "python",
   "nbconvert_exporter": "python",
   "pygments_lexer": "ipython3",
   "version": "3.9.13"
  }
 },
 "nbformat": 4,
 "nbformat_minor": 5
}
