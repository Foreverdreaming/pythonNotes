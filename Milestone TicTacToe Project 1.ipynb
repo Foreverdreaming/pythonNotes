{
 "cells": [
  {
   "cell_type": "code",
   "execution_count": null,
   "id": "86b47da1",
   "metadata": {},
   "outputs": [],
   "source": [
    "gameboard1 = ['     |     |     ']\n",
    "gameboard2 = ['     |     |     ']\n",
    "gameboard3 = ['     |     |     ']"
   ]
  },
  {
   "cell_type": "code",
   "execution_count": 9,
   "id": "50ea377a",
   "metadata": {},
   "outputs": [],
   "source": [
    "def displaygameboard(gameboard1, gameboard2, gameboard3):\n",
    "    \n",
    "    print(gameboard1)\n",
    "    print(\"----------------------\")\n",
    "    print(gameboard2)\n",
    "    print(\"----------------------\")\n",
    "    print(gameboard3)"
   ]
  },
  {
   "cell_type": "code",
   "execution_count": 10,
   "id": "668e4bf6",
   "metadata": {},
   "outputs": [],
   "source": [
    "#displaygameboard(gameboard1, gameboard2, gameboard3)"
   ]
  },
  {
   "cell_type": "code",
   "execution_count": 11,
   "id": "355e1ca7",
   "metadata": {},
   "outputs": [],
   "source": [
    "def user_choice():\n",
    "    \n",
    "    choice = \" \"\n",
    "    acceptable_range = (1, 9)\n",
    "    within_range = False\n",
    "    #if choice is not a number within the range, ask user to try again\n",
    "    while choice.isdigit() == False or within_range == False:\n",
    "        choice = input(\"Please choose a number from 1 - 9: \")\n",
    "        \n",
    "        if choice.isdigit() == False:\n",
    "            print(\"Wrong input! Please enter a digit!\")\n",
    "        elif choice.isdigit() == True:\n",
    "            if choice not in ['1', '2', '3', '4', '5', '6', '7', '8', '9']:\n",
    "                within_range = False\n",
    "                print(\"Wrong input\")\n",
    "            else:\n",
    "                within_range = True\n",
    "    \n",
    "    return int(choice)"
   ]
  },
  {
   "cell_type": "code",
   "execution_count": 12,
   "id": "59b13466",
   "metadata": {},
   "outputs": [],
   "source": [
    "def replacement_choice(gameboard1):\n",
    "       \n",
    "    user_placement = \" \"\n",
    "    while user_placement not in ['X', 'O', 'x', 'o']:\n",
    "        user_placement = input(\"Please enter an X or O! : \")\n",
    "        \n",
    "        if user_placement not in ['X', 'O', 'x', 'o']:\n",
    "            print(\"Invalid input! Please try again!\")\n",
    "    \n",
    "    return user_placement"
   ]
  },
  {
   "cell_type": "code",
   "execution_count": 13,
   "id": "9f917938",
   "metadata": {
    "scrolled": true
   },
   "outputs": [],
   "source": [
    "#replacement_choice(gameboard1)"
   ]
  },
  {
   "cell_type": "code",
   "execution_count": 14,
   "id": "a87f7611",
   "metadata": {},
   "outputs": [],
   "source": [
    "def continueplaying():\n",
    "    \n",
    "    playing = \" \"\n",
    "    \n",
    "    while playing not in ['No', 'no', 'yes', 'Yes', 'y', 'n']:\n",
    "        playing = input(\"Do you wish to continue? (Yes/No) : \")\n",
    "         \n",
    "        if playing not in ['No', 'no', 'yes', 'Yes', 'y', 'n']:\n",
    "            print(\"Invalid input, please try again.\")\n",
    "        \n",
    "    if playing in ['No', 'no', 'n']:\n",
    "        return False"
   ]
  },
  {
   "cell_type": "code",
   "execution_count": 15,
   "id": "967140b4",
   "metadata": {},
   "outputs": [
    {
     "name": "stdout",
     "output_type": "stream",
     "text": [
      "Do you wish to continue? (Yes/No) : no\n"
     ]
    },
    {
     "data": {
      "text/plain": [
       "False"
      ]
     },
     "execution_count": 15,
     "metadata": {},
     "output_type": "execute_result"
    }
   ],
   "source": [
    "continueplaying()"
   ]
  },
  {
   "cell_type": "code",
   "execution_count": 16,
   "id": "424bbe13",
   "metadata": {},
   "outputs": [
    {
     "name": "stdout",
     "output_type": "stream",
     "text": [
      "['     |     |     ']\n",
      "----------------------\n",
      "['     |     |     ']\n",
      "----------------------\n",
      "['     |     |     ']\n",
      "Please choose a number from 1 - 9: 2\n",
      "Do you wish to continue? (Yes/No) : no\n"
     ]
    }
   ],
   "source": [
    "gameboard1 = ['     |     |     ']\n",
    "gameboard2 = ['     |     |     ']\n",
    "gameboard3 = ['     |     |     ']\n",
    "game_on = True\n",
    "\n",
    "while game_on: \n",
    "    \n",
    "    displaygameboard(gameboard1, gameboard2, gameboard3)\n",
    "    \n",
    "    position = user_choice()\n",
    "    \n",
    "    if position == 1 or 2 or 3:\n",
    "        replacement_choice()\n",
    "    \n",
    "    \n",
    "    game_on = continueplaying()"
   ]
  },
  {
   "cell_type": "code",
   "execution_count": null,
   "id": "fd5696b1",
   "metadata": {},
   "outputs": [],
   "source": []
  },
  {
   "cell_type": "code",
   "execution_count": null,
   "id": "34d9fafc",
   "metadata": {},
   "outputs": [],
   "source": []
  },
  {
   "cell_type": "code",
   "execution_count": null,
   "id": "825674e9",
   "metadata": {},
   "outputs": [],
   "source": []
  },
  {
   "cell_type": "code",
   "execution_count": null,
   "id": "a5ee8f26",
   "metadata": {},
   "outputs": [],
   "source": []
  },
  {
   "cell_type": "code",
   "execution_count": null,
   "id": "ccda47f5",
   "metadata": {},
   "outputs": [],
   "source": []
  }
 ],
 "metadata": {
  "kernelspec": {
   "display_name": "Python 3 (ipykernel)",
   "language": "python",
   "name": "python3"
  },
  "language_info": {
   "codemirror_mode": {
    "name": "ipython",
    "version": 3
   },
   "file_extension": ".py",
   "mimetype": "text/x-python",
   "name": "python",
   "nbconvert_exporter": "python",
   "pygments_lexer": "ipython3",
   "version": "3.9.7"
  }
 },
 "nbformat": 4,
 "nbformat_minor": 5
}
