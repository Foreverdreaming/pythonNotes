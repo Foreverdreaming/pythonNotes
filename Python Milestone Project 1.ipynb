{
 "cells": [
  {
   "cell_type": "code",
   "execution_count": null,
   "id": "27eb33b5",
   "metadata": {},
   "outputs": [],
   "source": [
    "def display(row1, row2, row3):\n",
    "    print(row1)\n",
    "    print(row2)\n",
    "    print(row3)"
   ]
  },
  {
   "cell_type": "code",
   "execution_count": null,
   "id": "aa01e30f",
   "metadata": {},
   "outputs": [],
   "source": [
    "row1 = [' ',' ',' ']\n",
    "row2 = [' ',' ',' ']\n",
    "row3 = [' ',' ',' ']"
   ]
  },
  {
   "cell_type": "code",
   "execution_count": null,
   "id": "01c034da",
   "metadata": {},
   "outputs": [],
   "source": [
    "display(row1,row2,row3)"
   ]
  },
  {
   "cell_type": "code",
   "execution_count": null,
   "id": "f72fb9b0",
   "metadata": {},
   "outputs": [],
   "source": [
    "row2[1] = 'X'"
   ]
  },
  {
   "cell_type": "code",
   "execution_count": null,
   "id": "767d5fc0",
   "metadata": {},
   "outputs": [],
   "source": [
    "display(row1,row2,row3)"
   ]
  },
  {
   "cell_type": "code",
   "execution_count": null,
   "id": "521e57cc",
   "metadata": {},
   "outputs": [],
   "source": [
    "result = input(\"Please enter a value: \")"
   ]
  },
  {
   "cell_type": "markdown",
   "id": "008fbae6",
   "metadata": {},
   "source": [
    "#converting str input into integer by using result_int = int(result)"
   ]
  },
  {
   "cell_type": "code",
   "execution_count": null,
   "id": "9453b474",
   "metadata": {},
   "outputs": [],
   "source": [
    "result_int = int(result)"
   ]
  },
  {
   "cell_type": "code",
   "execution_count": null,
   "id": "c419546b",
   "metadata": {},
   "outputs": [],
   "source": [
    "float('3.14')"
   ]
  },
  {
   "cell_type": "code",
   "execution_count": null,
   "id": "0ae2af87",
   "metadata": {},
   "outputs": [],
   "source": [
    "position_index = int(input(\"Choose an index position: \"))"
   ]
  },
  {
   "cell_type": "code",
   "execution_count": null,
   "id": "a1fca51a",
   "metadata": {},
   "outputs": [],
   "source": [
    "#above line results in your user input to become an integer instead of a string\n",
    "#so then our row1/2/3 [position_index] can work cos the position_index is an integer"
   ]
  },
  {
   "cell_type": "code",
   "execution_count": null,
   "id": "e5fca0a3",
   "metadata": {},
   "outputs": [],
   "source": [
    "row1[position_index]"
   ]
  },
  {
   "cell_type": "code",
   "execution_count": null,
   "id": "54e3bec7",
   "metadata": {},
   "outputs": [],
   "source": [
    "def user_choice():\n",
    "    \n",
    "    #initial\n",
    "    choice = \"WRONG!\"\n",
    "    #acceptable range of 0-10\n",
    "    acceptable_range = range(0,10)\n",
    "    within_range = False\n",
    "    \n",
    "    #while loop for incorrect inputs\n",
    "    while choice.isdigit() == False or within_range == False:\n",
    " \n",
    "        choice = input(\"Please enter a number (0-9): \")\n",
    "        \n",
    "        #DIGIT CHECK\n",
    "        if choice.isdigit() == False:\n",
    "            print(\"Your entry is not a digit, please try again!\")\n",
    "        \n",
    "        #RANGE CHECK\n",
    "        if choice.isdigit() == True:\n",
    "            \n",
    "            if int(choice) in acceptable_range:\n",
    "                within_range = True\n",
    "            else: \n",
    "                print(\"Sorry, you are not in the acceptable range of 0 - 10. Please try again!\")\n",
    "                within_range = False\n",
    "\n",
    "    return int(choice)"
   ]
  },
  {
   "cell_type": "code",
   "execution_count": null,
   "id": "016c74a0",
   "metadata": {},
   "outputs": [],
   "source": [
    "user_choice()"
   ]
  },
  {
   "cell_type": "code",
   "execution_count": null,
   "id": "e3bd2b50",
   "metadata": {},
   "outputs": [],
   "source": [
    "result = \"wrong value\"\n"
   ]
  },
  {
   "cell_type": "code",
   "execution_count": null,
   "id": "794ccc82",
   "metadata": {},
   "outputs": [],
   "source": [
    "acceptable_values = range(0,10)"
   ]
  },
  {
   "cell_type": "code",
   "execution_count": null,
   "id": "4f76d8cd",
   "metadata": {},
   "outputs": [],
   "source": [
    "result in acceptable_values"
   ]
  },
  {
   "cell_type": "code",
   "execution_count": null,
   "id": "2b3ae81d",
   "metadata": {},
   "outputs": [],
   "source": []
  },
  {
   "cell_type": "code",
   "execution_count": null,
   "id": "dfd79697",
   "metadata": {},
   "outputs": [],
   "source": []
  },
  {
   "cell_type": "code",
   "execution_count": null,
   "id": "7095655e",
   "metadata": {},
   "outputs": [],
   "source": []
  },
  {
   "cell_type": "code",
   "execution_count": null,
   "id": "19a9601b",
   "metadata": {},
   "outputs": [],
   "source": []
  },
  {
   "cell_type": "code",
   "execution_count": null,
   "id": "7fc18521",
   "metadata": {},
   "outputs": [],
   "source": []
  },
  {
   "cell_type": "code",
   "execution_count": null,
   "id": "a976db75",
   "metadata": {},
   "outputs": [],
   "source": []
  },
  {
   "cell_type": "code",
   "execution_count": 1,
   "id": "48ad74b5",
   "metadata": {},
   "outputs": [],
   "source": [
    "game_list = [0,1,2]"
   ]
  },
  {
   "cell_type": "code",
   "execution_count": 2,
   "id": "d81e17f5",
   "metadata": {},
   "outputs": [],
   "source": [
    "def display_game(game_list):\n",
    "    print (\"Here's the current list: \")\n",
    "    print (game_list)"
   ]
  },
  {
   "cell_type": "code",
   "execution_count": 3,
   "id": "b41a04c4",
   "metadata": {},
   "outputs": [
    {
     "name": "stdout",
     "output_type": "stream",
     "text": [
      "Here's the current list: \n",
      "[0, 1, 2]\n"
     ]
    }
   ],
   "source": [
    "display_game(game_list)"
   ]
  },
  {
   "cell_type": "code",
   "execution_count": 4,
   "id": "3326e184",
   "metadata": {},
   "outputs": [],
   "source": [
    "def position_choice():\n",
    "    \n",
    "    choice = 'wrong'\n",
    "    \n",
    "    while choice not in ['0','1','2']:\n",
    "        choice = input(\"Please pick a position fom 0-2: \")\n",
    "        \n",
    "        if choice not in ['0','1','2']:\n",
    "            print(\"Sorry, please pick again\")\n",
    "        \n",
    "    return int(choice)"
   ]
  },
  {
   "cell_type": "code",
   "execution_count": 5,
   "id": "3a6be423",
   "metadata": {
    "scrolled": true
   },
   "outputs": [
    {
     "name": "stdout",
     "output_type": "stream",
     "text": [
      "Please pick a position fom 0-2: 1\n"
     ]
    },
    {
     "data": {
      "text/plain": [
       "1"
      ]
     },
     "execution_count": 5,
     "metadata": {},
     "output_type": "execute_result"
    }
   ],
   "source": [
    "position_choice()"
   ]
  },
  {
   "cell_type": "code",
   "execution_count": 6,
   "id": "9e39979f",
   "metadata": {},
   "outputs": [],
   "source": [
    "def replacement_value(game_list, position):\n",
    "    \n",
    "    user_placement = input(\"Type something that you would like to replace: \")\n",
    "    game_list[position] = user_placement\n",
    "    \n",
    "    return game_list"
   ]
  },
  {
   "cell_type": "code",
   "execution_count": 7,
   "id": "a58e397c",
   "metadata": {},
   "outputs": [
    {
     "name": "stdout",
     "output_type": "stream",
     "text": [
      "Type something that you would like to replace: 1\n"
     ]
    },
    {
     "data": {
      "text/plain": [
       "[0, '1', 2]"
      ]
     },
     "execution_count": 7,
     "metadata": {},
     "output_type": "execute_result"
    }
   ],
   "source": [
    "replacement_value(game_list, 1)"
   ]
  },
  {
   "cell_type": "code",
   "execution_count": 8,
   "id": "d8f935de",
   "metadata": {},
   "outputs": [],
   "source": [
    "def gameon_choice():\n",
    "    \n",
    "    choice = \"wrong\"\n",
    "    \n",
    "    while choice not in ['N', 'Y']:\n",
    "        choice = input(\"Do you wish to continue? Y/N : \")\n",
    "        \n",
    "        if choice not in ['N', 'Y']:\n",
    "            print(\"Wrong input, please try again\")\n",
    "            \n",
    "    if choice == \"Y\":\n",
    "        return True\n",
    "    else:\n",
    "        return False"
   ]
  },
  {
   "cell_type": "code",
   "execution_count": 9,
   "id": "2ff3d2fa",
   "metadata": {},
   "outputs": [
    {
     "name": "stdout",
     "output_type": "stream",
     "text": [
      "Do you wish to continue? Y/N : Y\n"
     ]
    },
    {
     "data": {
      "text/plain": [
       "True"
      ]
     },
     "execution_count": 9,
     "metadata": {},
     "output_type": "execute_result"
    }
   ],
   "source": [
    "gameon_choice()"
   ]
  },
  {
   "cell_type": "code",
   "execution_count": 10,
   "id": "d1d159d6",
   "metadata": {},
   "outputs": [
    {
     "name": "stdout",
     "output_type": "stream",
     "text": [
      "Here's the current list: \n",
      "[0, 1, 2]\n",
      "Please pick a position fom 0-2: 0\n",
      "Type something that you would like to replace: test\n",
      "Here's the current list: \n",
      "['test', 1, 2]\n",
      "Do you wish to continue? Y/N : Y\n",
      "Here's the current list: \n",
      "['test', 1, 2]\n",
      "Please pick a position fom 0-2: 2\n",
      "Type something that you would like to replace: meow\n",
      "Here's the current list: \n",
      "['test', 1, 'meow']\n",
      "Do you wish to continue? Y/N : 1\n",
      "Wrong input, please try again\n",
      "Do you wish to continue? Y/N : Y\n",
      "Here's the current list: \n",
      "['test', 1, 'meow']\n",
      "Please pick a position fom 0-2: 1\n",
      "Type something that you would like to replace: look\n",
      "Here's the current list: \n",
      "['test', 'look', 'meow']\n",
      "Do you wish to continue? Y/N : N\n"
     ]
    }
   ],
   "source": [
    "game_on = True\n",
    "game_list = [0,1,2]\n",
    "\n",
    "while game_on:\n",
    "    \n",
    "    display_game(game_list)\n",
    "    \n",
    "    position = position_choice()\n",
    "    \n",
    "    game_list = replacement_value(game_list, position)\n",
    "    \n",
    "    display_game(game_list)\n",
    "    \n",
    "    game_on = gameon_choice()\n",
    "    "
   ]
  },
  {
   "cell_type": "code",
   "execution_count": null,
   "id": "0e72e9e0",
   "metadata": {},
   "outputs": [],
   "source": []
  },
  {
   "cell_type": "code",
   "execution_count": null,
   "id": "afe5c726",
   "metadata": {},
   "outputs": [],
   "source": []
  }
 ],
 "metadata": {
  "kernelspec": {
   "display_name": "Python 3 (ipykernel)",
   "language": "python",
   "name": "python3"
  },
  "language_info": {
   "codemirror_mode": {
    "name": "ipython",
    "version": 3
   },
   "file_extension": ".py",
   "mimetype": "text/x-python",
   "name": "python",
   "nbconvert_exporter": "python",
   "pygments_lexer": "ipython3",
   "version": "3.9.7"
  }
 },
 "nbformat": 4,
 "nbformat_minor": 5
}
